{
 "cells": [
  {
   "cell_type": "code",
   "execution_count": 1,
   "id": "fe5fced8-8fa1-4b78-b696-960236dbc7d3",
   "metadata": {},
   "outputs": [],
   "source": [
    "# Initial imports\n",
    "from alpaca_trade_api.rest import REST, TimeFrame\n",
    "import alpaca_trade_api as tradeapi\n",
    "from dotenv import load_dotenv\n",
    "from datetime import date\n",
    "load_dotenv()\n",
    "import requests\n",
    "import pandas as pd\n",
    "import numpy as np\n",
    "import getpass\n",
    "import os"
   ]
  },
  {
   "cell_type": "code",
   "execution_count": 2,
   "id": "7fa8ce46-b062-46f6-b8a4-88a3c78e23dd",
   "metadata": {},
   "outputs": [],
   "source": [
    "from SOBacktester import SOBacktester as SO"
   ]
  },
  {
   "cell_type": "code",
   "execution_count": 3,
   "id": "8733ec84-0154-48f1-a872-a5f41764684f",
   "metadata": {},
   "outputs": [],
   "source": [
    "# API Info for fetching data, portfolio, etc. from Alpaca\n",
    "BASE_URL = \"https://paper-api.alpaca.markets\"\n",
    "\n",
    "if os.getenv(\"APCA_API_KEY_ID\") is not None:\n",
    "    ALPACA_API_KEY = os.getenv(\"APCA_API_KEY_ID\")\n",
    "else:\n",
    "\n",
    "    ALPACA_API_KEY = getpass.getpass('Type your alpaca api key here, it is safe from viewing.')\n",
    "\n",
    "if os.getenv(\"ALPACA_SECRET_KEY\") is not None:\n",
    "    ALPACA_SECRET_KEY = os.getenv(\"ALPACA_SECRET_KEY\")\n",
    "else:\n",
    "\n",
    "    ALPACA_SECRET_KEY = getpass.getpass('Type your secret alpaca api key here, it is safe from viewing.')\n",
    "\n",
    "# Instantiate REST API Connection - Account\n",
    "api_account = tradeapi.REST(key_id=ALPACA_API_KEY, secret_key=ALPACA_SECRET_KEY, raw_data=True,base_url=BASE_URL, api_version='v2')\n",
    "\n",
    "# Instantiate REST API Connection - Trade\n",
    "api_trade = tradeapi.REST(key_id=ALPACA_API_KEY, secret_key=ALPACA_SECRET_KEY, raw_data=False, base_url=BASE_URL, api_version='v2')"
   ]
  },
  {
   "cell_type": "code",
   "execution_count": 4,
   "id": "f344aed9-37de-44db-aa7a-d8d149920992",
   "metadata": {},
   "outputs": [],
   "source": [
    "# Choose a symbol\n",
    "symbol = 'BTCUSD'\n",
    "\n",
    "# time window in days for rolling low/high\n",
    "periods = 14\n",
    "\n",
    "# time window in days for %D line\n",
    "d_mw = 3\n",
    "\n",
    "# Get the start date and end dates\n",
    "start = \"2009-01-03\" # Bitcoin's genesis block date\n",
    "end = \"2022-03-16\"\n",
    "\n",
    "# Proportional Trade cost per trade\n",
    "tc = 0.000000"
   ]
  },
  {
   "cell_type": "code",
   "execution_count": 5,
   "id": "297e03d9-f8f4-46e3-9990-e839084eee30",
   "metadata": {},
   "outputs": [],
   "source": [
    "tester = SO(symbol, periods, d_mw, start, end, tc,api_trade)"
   ]
  },
  {
   "cell_type": "code",
   "execution_count": 6,
   "id": "b6751dae-9ff2-4fd5-9936-9598340c1aeb",
   "metadata": {},
   "outputs": [
    {
     "data": {
      "text/plain": [
       "SOBacktester(symbol = BTCUSD, periods = 14, D_mw = 3, start = 2009-01-03, end = 2022-03-16, api = <alpaca_trade_api.rest.REST object at 0x000002AF99DE0308>)"
      ]
     },
     "execution_count": 6,
     "metadata": {},
     "output_type": "execute_result"
    }
   ],
   "source": [
    "tester"
   ]
  },
  {
   "cell_type": "code",
   "execution_count": 7,
   "id": "cbc62003-6c6d-45a2-a985-a137bd929d4c",
   "metadata": {},
   "outputs": [
    {
     "data": {
      "text/plain": [
       "(3.921138, -146.779641)"
      ]
     },
     "execution_count": 7,
     "metadata": {},
     "output_type": "execute_result"
    }
   ],
   "source": [
    "tester.test_strategy()"
   ]
  },
  {
   "cell_type": "code",
   "execution_count": 8,
   "id": "d7f6280a-f50f-4750-9c0d-b5a3d317a3aa",
   "metadata": {},
   "outputs": [
    {
     "data": {
      "text/html": [
       "<div>\n",
       "<style scoped>\n",
       "    .dataframe tbody tr th:only-of-type {\n",
       "        vertical-align: middle;\n",
       "    }\n",
       "\n",
       "    .dataframe tbody tr th {\n",
       "        vertical-align: top;\n",
       "    }\n",
       "\n",
       "    .dataframe thead th {\n",
       "        text-align: right;\n",
       "    }\n",
       "</style>\n",
       "<table border=\"1\" class=\"dataframe\">\n",
       "  <thead>\n",
       "    <tr style=\"text-align: right;\">\n",
       "      <th></th>\n",
       "      <th>exchange</th>\n",
       "      <th>open</th>\n",
       "      <th>high</th>\n",
       "      <th>low</th>\n",
       "      <th>close</th>\n",
       "      <th>volume</th>\n",
       "      <th>trade_count</th>\n",
       "      <th>vwap</th>\n",
       "      <th>returns</th>\n",
       "      <th>roll_low</th>\n",
       "      <th>roll_high</th>\n",
       "      <th>K</th>\n",
       "      <th>D</th>\n",
       "      <th>position</th>\n",
       "      <th>strategy</th>\n",
       "      <th>trades</th>\n",
       "      <th>creturns</th>\n",
       "      <th>cstrategy</th>\n",
       "    </tr>\n",
       "    <tr>\n",
       "      <th>timestamp</th>\n",
       "      <th></th>\n",
       "      <th></th>\n",
       "      <th></th>\n",
       "      <th></th>\n",
       "      <th></th>\n",
       "      <th></th>\n",
       "      <th></th>\n",
       "      <th></th>\n",
       "      <th></th>\n",
       "      <th></th>\n",
       "      <th></th>\n",
       "      <th></th>\n",
       "      <th></th>\n",
       "      <th></th>\n",
       "      <th></th>\n",
       "      <th></th>\n",
       "      <th></th>\n",
       "      <th></th>\n",
       "    </tr>\n",
       "  </thead>\n",
       "  <tbody>\n",
       "    <tr>\n",
       "      <th>2015-01-27 06:00:00+00:00</th>\n",
       "      <td>CBSE</td>\n",
       "      <td>263.96</td>\n",
       "      <td>265.99</td>\n",
       "      <td>253.53</td>\n",
       "      <td>257.89</td>\n",
       "      <td>538.920802</td>\n",
       "      <td>1083</td>\n",
       "      <td>260.189957</td>\n",
       "      <td>-0.062345</td>\n",
       "      <td>109.87</td>\n",
       "      <td>322.72</td>\n",
       "      <td>69.541931</td>\n",
       "      <td>77.150608</td>\n",
       "      <td>-1</td>\n",
       "      <td>-0.062345</td>\n",
       "      <td>0.0</td>\n",
       "      <td>0.939558</td>\n",
       "      <td>0.939558</td>\n",
       "    </tr>\n",
       "    <tr>\n",
       "      <th>2015-01-28 06:00:00+00:00</th>\n",
       "      <td>CBSE</td>\n",
       "      <td>257.90</td>\n",
       "      <td>262.00</td>\n",
       "      <td>228.50</td>\n",
       "      <td>236.09</td>\n",
       "      <td>4800.863335</td>\n",
       "      <td>6244</td>\n",
       "      <td>244.627508</td>\n",
       "      <td>-0.088320</td>\n",
       "      <td>109.87</td>\n",
       "      <td>322.72</td>\n",
       "      <td>59.299977</td>\n",
       "      <td>68.726020</td>\n",
       "      <td>-1</td>\n",
       "      <td>0.088320</td>\n",
       "      <td>0.0</td>\n",
       "      <td>0.860136</td>\n",
       "      <td>1.026315</td>\n",
       "    </tr>\n",
       "    <tr>\n",
       "      <th>2015-01-29 06:00:00+00:00</th>\n",
       "      <td>CBSE</td>\n",
       "      <td>232.62</td>\n",
       "      <td>240.00</td>\n",
       "      <td>221.14</td>\n",
       "      <td>235.03</td>\n",
       "      <td>5033.534735</td>\n",
       "      <td>6091</td>\n",
       "      <td>232.060766</td>\n",
       "      <td>-0.004500</td>\n",
       "      <td>184.00</td>\n",
       "      <td>322.72</td>\n",
       "      <td>36.786332</td>\n",
       "      <td>55.209413</td>\n",
       "      <td>-1</td>\n",
       "      <td>0.004500</td>\n",
       "      <td>0.0</td>\n",
       "      <td>0.856274</td>\n",
       "      <td>1.030944</td>\n",
       "    </tr>\n",
       "    <tr>\n",
       "      <th>2015-01-30 06:00:00+00:00</th>\n",
       "      <td>CBSE</td>\n",
       "      <td>242.26</td>\n",
       "      <td>244.59</td>\n",
       "      <td>227.89</td>\n",
       "      <td>229.07</td>\n",
       "      <td>4709.384670</td>\n",
       "      <td>5008</td>\n",
       "      <td>232.924199</td>\n",
       "      <td>-0.025686</td>\n",
       "      <td>184.00</td>\n",
       "      <td>322.72</td>\n",
       "      <td>32.489908</td>\n",
       "      <td>42.858739</td>\n",
       "      <td>-1</td>\n",
       "      <td>0.025686</td>\n",
       "      <td>0.0</td>\n",
       "      <td>0.834560</td>\n",
       "      <td>1.057767</td>\n",
       "    </tr>\n",
       "    <tr>\n",
       "      <th>2015-01-31 06:00:00+00:00</th>\n",
       "      <td>CBSE</td>\n",
       "      <td>218.67</td>\n",
       "      <td>220.73</td>\n",
       "      <td>216.16</td>\n",
       "      <td>218.15</td>\n",
       "      <td>1491.309920</td>\n",
       "      <td>2961</td>\n",
       "      <td>218.655542</td>\n",
       "      <td>-0.048845</td>\n",
       "      <td>184.00</td>\n",
       "      <td>322.72</td>\n",
       "      <td>24.617935</td>\n",
       "      <td>31.298058</td>\n",
       "      <td>-1</td>\n",
       "      <td>0.048845</td>\n",
       "      <td>0.0</td>\n",
       "      <td>0.794776</td>\n",
       "      <td>1.110716</td>\n",
       "    </tr>\n",
       "    <tr>\n",
       "      <th>...</th>\n",
       "      <td>...</td>\n",
       "      <td>...</td>\n",
       "      <td>...</td>\n",
       "      <td>...</td>\n",
       "      <td>...</td>\n",
       "      <td>...</td>\n",
       "      <td>...</td>\n",
       "      <td>...</td>\n",
       "      <td>...</td>\n",
       "      <td>...</td>\n",
       "      <td>...</td>\n",
       "      <td>...</td>\n",
       "      <td>...</td>\n",
       "      <td>...</td>\n",
       "      <td>...</td>\n",
       "      <td>...</td>\n",
       "      <td>...</td>\n",
       "      <td>...</td>\n",
       "    </tr>\n",
       "    <tr>\n",
       "      <th>2022-03-12 06:00:00+00:00</th>\n",
       "      <td>CBSE</td>\n",
       "      <td>39176.21</td>\n",
       "      <td>39472.17</td>\n",
       "      <td>38682.66</td>\n",
       "      <td>39128.83</td>\n",
       "      <td>5191.800482</td>\n",
       "      <td>296085</td>\n",
       "      <td>39087.373020</td>\n",
       "      <td>-0.001259</td>\n",
       "      <td>37020.00</td>\n",
       "      <td>45426.45</td>\n",
       "      <td>25.085857</td>\n",
       "      <td>23.913106</td>\n",
       "      <td>1</td>\n",
       "      <td>0.001259</td>\n",
       "      <td>2.0</td>\n",
       "      <td>142.556215</td>\n",
       "      <td>3.824644</td>\n",
       "    </tr>\n",
       "    <tr>\n",
       "      <th>2022-03-13 06:00:00+00:00</th>\n",
       "      <td>CBSE</td>\n",
       "      <td>39128.72</td>\n",
       "      <td>39197.64</td>\n",
       "      <td>37560.40</td>\n",
       "      <td>38535.33</td>\n",
       "      <td>9746.146402</td>\n",
       "      <td>410824</td>\n",
       "      <td>38410.908158</td>\n",
       "      <td>-0.015284</td>\n",
       "      <td>37161.88</td>\n",
       "      <td>45426.45</td>\n",
       "      <td>16.618529</td>\n",
       "      <td>22.458820</td>\n",
       "      <td>-1</td>\n",
       "      <td>-0.015284</td>\n",
       "      <td>2.0</td>\n",
       "      <td>140.393945</td>\n",
       "      <td>3.766632</td>\n",
       "    </tr>\n",
       "    <tr>\n",
       "      <th>2022-03-14 05:00:00+00:00</th>\n",
       "      <td>CBSE</td>\n",
       "      <td>38532.33</td>\n",
       "      <td>39906.39</td>\n",
       "      <td>38413.87</td>\n",
       "      <td>38794.04</td>\n",
       "      <td>14030.813097</td>\n",
       "      <td>520849</td>\n",
       "      <td>38974.602336</td>\n",
       "      <td>0.006691</td>\n",
       "      <td>37161.88</td>\n",
       "      <td>45426.45</td>\n",
       "      <td>19.748880</td>\n",
       "      <td>20.484422</td>\n",
       "      <td>-1</td>\n",
       "      <td>-0.006691</td>\n",
       "      <td>0.0</td>\n",
       "      <td>141.336491</td>\n",
       "      <td>3.741513</td>\n",
       "    </tr>\n",
       "    <tr>\n",
       "      <th>2022-03-15 05:00:00+00:00</th>\n",
       "      <td>CBSE</td>\n",
       "      <td>38792.35</td>\n",
       "      <td>41717.67</td>\n",
       "      <td>38135.00</td>\n",
       "      <td>39130.30</td>\n",
       "      <td>18289.667602</td>\n",
       "      <td>752620</td>\n",
       "      <td>39457.811868</td>\n",
       "      <td>0.008630</td>\n",
       "      <td>37161.88</td>\n",
       "      <td>45426.45</td>\n",
       "      <td>23.817573</td>\n",
       "      <td>20.061661</td>\n",
       "      <td>1</td>\n",
       "      <td>-0.008630</td>\n",
       "      <td>2.0</td>\n",
       "      <td>142.561571</td>\n",
       "      <td>3.709361</td>\n",
       "    </tr>\n",
       "    <tr>\n",
       "      <th>2022-03-16 05:00:00+00:00</th>\n",
       "      <td>CBSE</td>\n",
       "      <td>39129.96</td>\n",
       "      <td>41498.99</td>\n",
       "      <td>38988.66</td>\n",
       "      <td>41364.35</td>\n",
       "      <td>19119.068627</td>\n",
       "      <td>906849</td>\n",
       "      <td>40539.666987</td>\n",
       "      <td>0.055522</td>\n",
       "      <td>37161.88</td>\n",
       "      <td>44096.45</td>\n",
       "      <td>60.601739</td>\n",
       "      <td>34.722731</td>\n",
       "      <td>1</td>\n",
       "      <td>0.055522</td>\n",
       "      <td>0.0</td>\n",
       "      <td>150.700780</td>\n",
       "      <td>3.921138</td>\n",
       "    </tr>\n",
       "  </tbody>\n",
       "</table>\n",
       "<p>2606 rows × 18 columns</p>\n",
       "</div>"
      ],
      "text/plain": [
       "                          exchange      open      high       low     close  \\\n",
       "timestamp                                                                    \n",
       "2015-01-27 06:00:00+00:00     CBSE    263.96    265.99    253.53    257.89   \n",
       "2015-01-28 06:00:00+00:00     CBSE    257.90    262.00    228.50    236.09   \n",
       "2015-01-29 06:00:00+00:00     CBSE    232.62    240.00    221.14    235.03   \n",
       "2015-01-30 06:00:00+00:00     CBSE    242.26    244.59    227.89    229.07   \n",
       "2015-01-31 06:00:00+00:00     CBSE    218.67    220.73    216.16    218.15   \n",
       "...                            ...       ...       ...       ...       ...   \n",
       "2022-03-12 06:00:00+00:00     CBSE  39176.21  39472.17  38682.66  39128.83   \n",
       "2022-03-13 06:00:00+00:00     CBSE  39128.72  39197.64  37560.40  38535.33   \n",
       "2022-03-14 05:00:00+00:00     CBSE  38532.33  39906.39  38413.87  38794.04   \n",
       "2022-03-15 05:00:00+00:00     CBSE  38792.35  41717.67  38135.00  39130.30   \n",
       "2022-03-16 05:00:00+00:00     CBSE  39129.96  41498.99  38988.66  41364.35   \n",
       "\n",
       "                                 volume  trade_count          vwap   returns  \\\n",
       "timestamp                                                                      \n",
       "2015-01-27 06:00:00+00:00    538.920802         1083    260.189957 -0.062345   \n",
       "2015-01-28 06:00:00+00:00   4800.863335         6244    244.627508 -0.088320   \n",
       "2015-01-29 06:00:00+00:00   5033.534735         6091    232.060766 -0.004500   \n",
       "2015-01-30 06:00:00+00:00   4709.384670         5008    232.924199 -0.025686   \n",
       "2015-01-31 06:00:00+00:00   1491.309920         2961    218.655542 -0.048845   \n",
       "...                                 ...          ...           ...       ...   \n",
       "2022-03-12 06:00:00+00:00   5191.800482       296085  39087.373020 -0.001259   \n",
       "2022-03-13 06:00:00+00:00   9746.146402       410824  38410.908158 -0.015284   \n",
       "2022-03-14 05:00:00+00:00  14030.813097       520849  38974.602336  0.006691   \n",
       "2022-03-15 05:00:00+00:00  18289.667602       752620  39457.811868  0.008630   \n",
       "2022-03-16 05:00:00+00:00  19119.068627       906849  40539.666987  0.055522   \n",
       "\n",
       "                           roll_low  roll_high          K          D  \\\n",
       "timestamp                                                              \n",
       "2015-01-27 06:00:00+00:00    109.87     322.72  69.541931  77.150608   \n",
       "2015-01-28 06:00:00+00:00    109.87     322.72  59.299977  68.726020   \n",
       "2015-01-29 06:00:00+00:00    184.00     322.72  36.786332  55.209413   \n",
       "2015-01-30 06:00:00+00:00    184.00     322.72  32.489908  42.858739   \n",
       "2015-01-31 06:00:00+00:00    184.00     322.72  24.617935  31.298058   \n",
       "...                             ...        ...        ...        ...   \n",
       "2022-03-12 06:00:00+00:00  37020.00   45426.45  25.085857  23.913106   \n",
       "2022-03-13 06:00:00+00:00  37161.88   45426.45  16.618529  22.458820   \n",
       "2022-03-14 05:00:00+00:00  37161.88   45426.45  19.748880  20.484422   \n",
       "2022-03-15 05:00:00+00:00  37161.88   45426.45  23.817573  20.061661   \n",
       "2022-03-16 05:00:00+00:00  37161.88   44096.45  60.601739  34.722731   \n",
       "\n",
       "                           position  strategy  trades    creturns  cstrategy  \n",
       "timestamp                                                                     \n",
       "2015-01-27 06:00:00+00:00        -1 -0.062345     0.0    0.939558   0.939558  \n",
       "2015-01-28 06:00:00+00:00        -1  0.088320     0.0    0.860136   1.026315  \n",
       "2015-01-29 06:00:00+00:00        -1  0.004500     0.0    0.856274   1.030944  \n",
       "2015-01-30 06:00:00+00:00        -1  0.025686     0.0    0.834560   1.057767  \n",
       "2015-01-31 06:00:00+00:00        -1  0.048845     0.0    0.794776   1.110716  \n",
       "...                             ...       ...     ...         ...        ...  \n",
       "2022-03-12 06:00:00+00:00         1  0.001259     2.0  142.556215   3.824644  \n",
       "2022-03-13 06:00:00+00:00        -1 -0.015284     2.0  140.393945   3.766632  \n",
       "2022-03-14 05:00:00+00:00        -1 -0.006691     0.0  141.336491   3.741513  \n",
       "2022-03-15 05:00:00+00:00         1 -0.008630     2.0  142.561571   3.709361  \n",
       "2022-03-16 05:00:00+00:00         1  0.055522     0.0  150.700780   3.921138  \n",
       "\n",
       "[2606 rows x 18 columns]"
      ]
     },
     "execution_count": 8,
     "metadata": {},
     "output_type": "execute_result"
    }
   ],
   "source": [
    "tester.results"
   ]
  },
  {
   "cell_type": "code",
   "execution_count": 9,
   "id": "8d1793a5-7c72-4ad0-8334-de688c297731",
   "metadata": {},
   "outputs": [
    {
     "data": {
      "image/png": "[encoded data removed]",
      "text/plain": [
       "<Figure size 864x576 with 1 Axes>"
      ]
     },
     "metadata": {},
     "output_type": "display_data"
    }
   ],
   "source": [
    "tester.plot_results()"
   ]
  },
  {
   "cell_type": "code",
   "execution_count": 10,
   "id": "74818e8b-9dec-4d2e-af82-4ba2adf5b726",
   "metadata": {},
   "outputs": [
    {
     "data": {
      "text/plain": [
       "0.0    1539\n",
       "2.0    1067\n",
       "Name: trades, dtype: int64"
      ]
     },
     "execution_count": 10,
     "metadata": {},
     "output_type": "execute_result"
    }
   ],
   "source": [
    "tester.results.trades.value_counts()"
   ]
  },
  {
   "cell_type": "code",
   "execution_count": 11,
   "id": "fa2a1ed7-a213-4aeb-b2aa-cc12dd408c3b",
   "metadata": {},
   "outputs": [
    {
     "data": {
      "text/plain": [
       "(array([94., 14.]), 921.986487)"
      ]
     },
     "execution_count": 11,
     "metadata": {},
     "output_type": "execute_result"
    }
   ],
   "source": [
    "tester.optimize_parameters((10, 100, 1), (3, 50, 1))"
   ]
  },
  {
   "cell_type": "code",
   "execution_count": 12,
   "id": "b9051814-d964-49a7-bcb1-829d94442b66",
   "metadata": {},
   "outputs": [
    {
     "data": {
      "image/png": "[encoded data removed]",
      "text/plain": [
       "<Figure size 864x576 with 1 Axes>"
      ]
     },
     "metadata": {},
     "output_type": "display_data"
    }
   ],
   "source": [
    "tester.plot_results()"
   ]
  },
  {
   "cell_type": "code",
   "execution_count": 13,
   "id": "e031ae9f-019b-4fb1-ae47-dfdd8ba6d86c",
   "metadata": {},
   "outputs": [
    {
     "data": {
      "text/plain": [
       "0.0    2140\n",
       "2.0     375\n",
       "Name: trades, dtype: int64"
      ]
     },
     "execution_count": 13,
     "metadata": {},
     "output_type": "execute_result"
    }
   ],
   "source": [
    "tester.results.trades.value_counts()"
   ]
  }
 ],
 "metadata": {
  "kernelspec": {
   "display_name": "Python 3 (ipykernel)",
   "language": "python",
   "name": "python3"
  },
  "language_info": {
   "codemirror_mode": {
    "name": "ipython",
    "version": 3
   },
   "file_extension": ".py",
   "mimetype": "text/x-python",
   "name": "python",
   "nbconvert_exporter": "python",
   "pygments_lexer": "ipython3",
   "version": "3.7.10"
  }
 },
 "nbformat": 4,
 "nbformat_minor": 5
}
